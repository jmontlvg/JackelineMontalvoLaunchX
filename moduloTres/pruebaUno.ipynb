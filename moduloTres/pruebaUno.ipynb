{
 "cells": [
  {
   "cell_type": "markdown",
   "metadata": {},
   "source": [
    "# Ejercicio Uno de la Kata Tres"
   ]
  },
  {
   "cell_type": "code",
   "execution_count": 17,
   "metadata": {},
   "outputs": [
    {
     "name": "stdout",
     "output_type": "stream",
     "text": [
      "¡Peligro! Un asteroide grande se acerca a la Tierra demasiado rápido\n"
     ]
    }
   ],
   "source": [
    "velast = 49\n",
    "if velast > 25:\n",
    "    print (\"¡Peligro! Un asteroide grande se acerca a la Tierra demasiado rápido\")\n",
    "else:\n",
    "    print (\"Queridx terrícola: El asteroide no representa peligro\")\n",
    "    "
   ]
  },
  {
   "cell_type": "markdown",
   "metadata": {},
   "source": [
    "# Ejercicio Dos de la Kata Tres"
   ]
  },
  {
   "cell_type": "code",
   "execution_count": 18,
   "metadata": {},
   "outputs": [
    {
     "name": "stdout",
     "output_type": "stream",
     "text": [
      "No se observa algún rayo de luz ¡todo en orden!\n"
     ]
    }
   ],
   "source": [
    "velast = 19\n",
    "if velast > 20:\n",
    "    print (\"Mira el rayo de luz, ¡eso es un asteroide!\")\n",
    "elif velast ==20:\n",
    "    print (\"Mira el rayo de luz, ¡eso es un asteroide!\")\n",
    "else:\n",
    "    print (\"No se observa algún rayo de luz ¡todo en orden!\")\n",
    "\n"
   ]
  },
  {
   "cell_type": "markdown",
   "metadata": {},
   "source": [
    "# Ejercicio Tres de la Kata Tres"
   ]
  },
  {
   "cell_type": "code",
   "execution_count": 3,
   "metadata": {},
   "outputs": [
    {
     "name": "stdout",
     "output_type": "stream",
     "text": [
      "Un asteroide grande se aproxima a la Tierra pero no se observa algún rayo de luz ¡ponte trucha!\n"
     ]
    }
   ],
   "source": [
    "metros = 26\n",
    "velast = 19\n",
    "\n",
    "if metros > 25 and metros < 1000:\n",
    "    if velast > 25:\n",
    "        print (\"¡Peligro! Un asteroide grande y veloz se aproxima a la Tierra\")\n",
    "    if velast > 20 or velast == 20: #O también puede ser velast >= 20\n",
    "        print (\"Mira el rayo de luz, ¡eso es un asteroide!\")     \n",
    "    else:\n",
    "        print (\"Un asteroide grande se aproxima a la Tierra pero no se observa algún rayo de luz ¡ponte trucha!\")\n",
    "else:\n",
    "    print (\"Queridx terrícola: El asteroide no representa peligro y se quemará a medida que entre en la atmósfera de la Tierra (;\")\n",
    "\n"
   ]
  }
 ],
 "metadata": {
  "interpreter": {
   "hash": "bfb4883d108fc92ac768439090a2e92bb9a1f760a54beeecfd6762b5dcd70fe3"
  },
  "kernelspec": {
   "display_name": "Python 3.10.2 64-bit",
   "language": "python",
   "name": "python3"
  },
  "language_info": {
   "codemirror_mode": {
    "name": "ipython",
    "version": 3
   },
   "file_extension": ".py",
   "mimetype": "text/x-python",
   "name": "python",
   "nbconvert_exporter": "python",
   "pygments_lexer": "ipython3",
   "version": "3.10.2"
  },
  "orig_nbformat": 4
 },
 "nbformat": 4,
 "nbformat_minor": 2
}
