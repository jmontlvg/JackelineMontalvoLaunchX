{
 "cells": [
  {
   "cell_type": "markdown",
   "metadata": {},
   "source": [
    "# Transformar cadenas: Ejercicio 1 de la Kata 4"
   ]
  },
  {
   "cell_type": "code",
   "execution_count": 51,
   "metadata": {},
   "outputs": [],
   "source": [
    "text = \"\"\"Interesting facts about the Moon. The Moon is Earth's only satellite. There are several interesting facts about the Moon and how it affects life here on Earth. On average, the Moon moves 4cm away from the Earth every year. This yearly drift is not significant enough to cause immediate effects on Earth. The highest daylight temperature of the Moon is 127 C.\"\"\""
   ]
  },
  {
   "cell_type": "code",
   "execution_count": 52,
   "metadata": {},
   "outputs": [
    {
     "data": {
      "text/plain": [
       "['Interesting facts about the Moon',\n",
       " \" The Moon is Earth's only satellite\",\n",
       " ' There are several interesting facts about the Moon and how it affects life here on Earth',\n",
       " ' On average, the Moon moves 4cm away from the Earth every year',\n",
       " ' This yearly drift is not significant enough to cause immediate effects on Earth',\n",
       " ' The highest daylight temperature of the Moon is 127 C',\n",
       " '']"
      ]
     },
     "execution_count": 52,
     "metadata": {},
     "output_type": "execute_result"
    }
   ],
   "source": [
    "particion = text.split('.')\n",
    "particion"
   ]
  },
  {
   "cell_type": "code",
   "execution_count": 53,
   "metadata": {},
   "outputs": [
    {
     "name": "stdout",
     "output_type": "stream",
     "text": [
      "['average', 'temperature']\n"
     ]
    }
   ],
   "source": [
    "palabrasClave = [\"average\", \"temperature\"]\n",
    "print (palabrasClave)"
   ]
  },
  {
   "cell_type": "code",
   "execution_count": 54,
   "metadata": {},
   "outputs": [
    {
     "name": "stdout",
     "output_type": "stream",
     "text": [
      " On average, the Moon moves 4cm away from the Earth every year\n",
      " The highest daylight temperature of the Moon is 127 C\n"
     ]
    }
   ],
   "source": [
    "for frase in particion:\n",
    "    for palabraClave in palabrasClave:\n",
    "        if palabraClave in frase:\n",
    "            print(frase)"
   ]
  },
  {
   "cell_type": "code",
   "execution_count": 55,
   "metadata": {},
   "outputs": [
    {
     "name": "stdout",
     "output_type": "stream",
     "text": [
      " On average, the Moon moves 4cm away from the Earth every year\n",
      " On average, the Moon moves 4cm away from the Earth every year\n",
      " The highest daylight temperature of the Moon is 127 C\n",
      " The highest daylight temperature of the Moon is 127 Celsius\n"
     ]
    }
   ],
   "source": [
    "for frase in particion:\n",
    "    for palabraClave in palabrasClave:\n",
    "        if palabraClave in frase:\n",
    "            print(frase)\n",
    "            print(frase.replace('C','Celsius'))"
   ]
  },
  {
   "cell_type": "markdown",
   "metadata": {},
   "source": [
    "# Transformar cadenas: Ejercicio 2 de la Kata 4"
   ]
  },
  {
   "cell_type": "code",
   "execution_count": 56,
   "metadata": {},
   "outputs": [],
   "source": [
    "name = \"Moon\"\n",
    "gravity = 0.00162 \n",
    "planet = \"Earth\""
   ]
  },
  {
   "cell_type": "code",
   "execution_count": 57,
   "metadata": {},
   "outputs": [
    {
     "name": "stdout",
     "output_type": "stream",
     "text": [
      "Gravity on Earth and Moon\n"
     ]
    }
   ],
   "source": [
    "title = f'Gravity on {planet} and {name}'\n",
    "print (title)"
   ]
  },
  {
   "cell_type": "code",
   "execution_count": 58,
   "metadata": {},
   "outputs": [
    {
     "name": "stdout",
     "output_type": "stream",
     "text": [
      "-------------------------------------------------------------------------------\n",
      "Planet Name: Earth.\n",
      "Gravity on Moon: 1.6199999999999999 m/s2.\n"
     ]
    }
   ],
   "source": [
    "facts = f\"\"\"-------------------------------------------------------------------------------\\nPlanet Name: {planet}.\\nGravity on {name}: {gravity *1000} m/s2.\"\"\"\n",
    "print(facts)"
   ]
  },
  {
   "cell_type": "code",
   "execution_count": 59,
   "metadata": {},
   "outputs": [
    {
     "name": "stdout",
     "output_type": "stream",
     "text": [
      "Gravity On Earth And Moon\n",
      "-------------------------------------------------------------------------------\n",
      "Planet Name: Earth.\n",
      "Gravity on Moon: 1.6199999999999999 m/s2.\n",
      "\n"
     ]
    }
   ],
   "source": [
    "joinfacts = f\"\"\"{title.title()}\n",
    "{facts}\n",
    "\"\"\"\n",
    "print (joinfacts)\n",
    "\n"
   ]
  },
  {
   "cell_type": "code",
   "execution_count": 60,
   "metadata": {},
   "outputs": [],
   "source": [
    "# Nuevos datos\n",
    "\n",
    "name = \"Ganymede\"\n",
    "gravity = 0.00143\n",
    "planet = \"Mars\""
   ]
  },
  {
   "cell_type": "code",
   "execution_count": 61,
   "metadata": {},
   "outputs": [
    {
     "name": "stdout",
     "output_type": "stream",
     "text": [
      "Gravity on Mars and Ganymede\n",
      "------------------------------------------------------------------------------\n",
      "Planet Name: Mars\n",
      "Gravity on Ganymede: 1.4300000000000002 m/s2.\n"
     ]
    }
   ],
   "source": [
    "new = f\"\"\"Gravity on {planet} and {name}\\n------------------------------------------------------------------------------\\nPlanet Name: {planet}\\nGravity on {name}: {gravity *1000} m/s2.\"\"\"\n",
    "print(new)"
   ]
  }
 ],
 "metadata": {
  "interpreter": {
   "hash": "bfb4883d108fc92ac768439090a2e92bb9a1f760a54beeecfd6762b5dcd70fe3"
  },
  "kernelspec": {
   "display_name": "Python 3.10.2 64-bit",
   "language": "python",
   "name": "python3"
  },
  "language_info": {
   "codemirror_mode": {
    "name": "ipython",
    "version": 3
   },
   "file_extension": ".py",
   "mimetype": "text/x-python",
   "name": "python",
   "nbconvert_exporter": "python",
   "pygments_lexer": "ipython3",
   "version": "3.10.2"
  },
  "orig_nbformat": 4
 },
 "nbformat": 4,
 "nbformat_minor": 2
}
