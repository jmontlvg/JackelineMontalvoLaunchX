{
 "cells": [
  {
   "cell_type": "markdown",
   "metadata": {},
   "source": [
    "# Ejercicio 1 de la Kata 9"
   ]
  },
  {
   "cell_type": "code",
   "execution_count": 43,
   "metadata": {},
   "outputs": [],
   "source": [
    "# Función para leer los tanques y mostrar el promedio\n",
    "\n",
    "def combustible(tanque_uno, tanque_dos, tanque_tres):\n",
    "\n",
    "    suma = tanque_uno + tanque_dos + tanque_tres\n",
    "    promedio = suma / 3\n",
    "\n",
    "    return promedio"
   ]
  },
  {
   "cell_type": "code",
   "execution_count": 44,
   "metadata": {},
   "outputs": [
    {
     "name": "stdout",
     "output_type": "stream",
     "text": [
      "20.0\n"
     ]
    }
   ],
   "source": [
    "# Función para generar el reporte\n",
    "\n",
    "print(combustible(10,20,30))"
   ]
  },
  {
   "cell_type": "code",
   "execution_count": 45,
   "metadata": {},
   "outputs": [
    {
     "data": {
      "text/plain": [
       "30.0"
      ]
     },
     "execution_count": 45,
     "metadata": {},
     "output_type": "execute_result"
    }
   ],
   "source": [
    "# Función para calcular el promedio\n",
    "\n",
    "def promedio(tanques):\n",
    "    sumatotal = sum(tanques)\n",
    "    numerotanques = len(tanques)\n",
    "    return sumatotal / numerotanques\n",
    "\n",
    "promedio([10,20,30,40,50])"
   ]
  },
  {
   "cell_type": "code",
   "execution_count": 46,
   "metadata": {},
   "outputs": [
    {
     "name": "stdout",
     "output_type": "stream",
     "text": [
      "El promedio de combustible en los tanques es: 20.0\n"
     ]
    }
   ],
   "source": [
    "# Función de reporte llamando a la función de promedio \n",
    "\n",
    "def combustible(tanque_uno, tanque_dos, tanque_tres):\n",
    "    return f\"El promedio de combustible en los tanques es: {promedio([tanque_uno, tanque_dos, tanque_tres])}\"\n",
    "\n",
    "print(combustible(10,20,30))"
   ]
  },
  {
   "cell_type": "markdown",
   "metadata": {},
   "source": [
    "# Ejercicio 2 de la Kata 9"
   ]
  },
  {
   "cell_type": "code",
   "execution_count": 48,
   "metadata": {},
   "outputs": [
    {
     "name": "stdout",
     "output_type": "stream",
     "text": [
      "\n",
      "    La hora de prelanzamiento es: 18\n",
      "    El tiempo de vuelo es: 65\n",
      "    El destino es: Urano\n",
      "    El tanque externo tiene: 1234567\n",
      "    El tanque interno tiene: 7654321\n",
      "    \n"
     ]
    }
   ],
   "source": [
    "def informepreciso(hora_prelanzamiento, tiempo_vuelo, destino, tanque_externo, tanque_interno):\n",
    "    return f\"\"\"\n",
    "    La hora de prelanzamiento es: {hora_prelanzamiento}\n",
    "    El tiempo de vuelo es: {tiempo_vuelo}\n",
    "    El destino es: {destino}\n",
    "    El tanque externo tiene: {tanque_externo}\n",
    "    El tanque interno tiene: {tanque_interno}\n",
    "    \"\"\"\n",
    "print(informepreciso(18, 65, \"Urano\", 1234567, 7654321))\n",
    "    \n",
    "\n",
    "\n"
   ]
  },
  {
   "cell_type": "code",
   "execution_count": 49,
   "metadata": {},
   "outputs": [
    {
     "name": "stdout",
     "output_type": "stream",
     "text": [
      "\n",
      "    El destino es: Urano\n",
      "    El tiempo de vuelo es: 76 \n",
      "    El combustible total es: 8888888\n",
      "    \n"
     ]
    }
   ],
   "source": [
    "def informepreciso(destino, *minutes, **fuel_reservoirs):\n",
    "    return f\"\"\"\n",
    "    El destino es: {destino}\n",
    "    El tiempo de vuelo es: {sum(minutes)} \n",
    "    El combustible total es: {sum(fuel_reservoirs.values())}\n",
    "    \"\"\"\n",
    "\n",
    "print(informepreciso(\"Urano\", 10, 15, 51, interno=1234567, externo=7654321))"
   ]
  },
  {
   "cell_type": "code",
   "execution_count": 56,
   "metadata": {},
   "outputs": [
    {
     "name": "stdout",
     "output_type": "stream",
     "text": [
      "\n",
      "    El destino es: Urano\n",
      "    El tiempo de vuelo es: 76 \n",
      "    El combustible total es: 8888888\n",
      "    El tanque interno tiene 1234567 galones restantes\n",
      "    El tanque externo tiene 7654321 galones restantes\n",
      "    \n"
     ]
    }
   ],
   "source": [
    "def informepreciso(destino, *minutes, **fuel_reservoirs):\n",
    "    informepreciso = f\"\"\"\n",
    "    El destino es: {destino}\n",
    "    El tiempo de vuelo es: {sum(minutes)} \n",
    "    El combustible total es: {sum(fuel_reservoirs.values())}\n",
    "    \"\"\"\n",
    "    for nombretanque, galones in fuel_reservoirs.items():\n",
    "        informepreciso += f\"\"\"El tanque {nombretanque} tiene {galones} galones restantes\n",
    "    \"\"\"\n",
    "    return informepreciso\n",
    "\n",
    "print(informepreciso(\"Urano\", 10, 15, 51, interno=1234567, externo=7654321))"
   ]
  }
 ],
 "metadata": {
  "interpreter": {
   "hash": "bfb4883d108fc92ac768439090a2e92bb9a1f760a54beeecfd6762b5dcd70fe3"
  },
  "kernelspec": {
   "display_name": "Python 3.10.2 64-bit",
   "language": "python",
   "name": "python3"
  },
  "language_info": {
   "codemirror_mode": {
    "name": "ipython",
    "version": 3
   },
   "file_extension": ".py",
   "mimetype": "text/x-python",
   "name": "python",
   "nbconvert_exporter": "python",
   "pygments_lexer": "ipython3",
   "version": "3.10.2"
  },
  "orig_nbformat": 4
 },
 "nbformat": 4,
 "nbformat_minor": 2
}
