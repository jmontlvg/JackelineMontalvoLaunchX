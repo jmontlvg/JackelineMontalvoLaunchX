{
 "cells": [
  {
   "cell_type": "markdown",
   "metadata": {},
   "source": [
    "# Ejercicio 1 de la Kata 5"
   ]
  },
  {
   "cell_type": "code",
   "execution_count": 39,
   "metadata": {},
   "outputs": [
    {
     "name": "stdout",
     "output_type": "stream",
     "text": [
      "Distancia del planeta Tierra: 149597870\n",
      "Distancia del planeta Júpiter: 778547200\n"
     ]
    }
   ],
   "source": [
    "tierra = 149597870 # km\n",
    "jupiter = 778547200 # km\n",
    "\n",
    "print (\"Distancia del planeta Tierra:\",tierra)\n",
    "print (\"Distancia del planeta Júpiter:\",jupiter)"
   ]
  },
  {
   "cell_type": "code",
   "execution_count": 40,
   "metadata": {},
   "outputs": [
    {
     "name": "stdout",
     "output_type": "stream",
     "text": [
      "La distancia entre los dos planetas (km) es: 628949330\n"
     ]
    }
   ],
   "source": [
    "distancia = tierra - jupiter\n",
    "absdistancia = abs(distancia)\n",
    "print(\"La distancia entre los dos planetas (km) es:\",absdistancia)"
   ]
  },
  {
   "cell_type": "code",
   "execution_count": 41,
   "metadata": {},
   "outputs": [
    {
     "name": "stdout",
     "output_type": "stream",
     "text": [
      "La distancia entre los dos planetas (millas) es: 390577534\n"
     ]
    }
   ],
   "source": [
    "milla = 0.621\n",
    "distanciamilla = absdistancia * milla\n",
    "print(\"La distancia entre los dos planetas (millas) es:\",round(distanciamilla))\n",
    "\n"
   ]
  },
  {
   "cell_type": "markdown",
   "metadata": {},
   "source": [
    "# Ejercicio 2 de la Kata 5"
   ]
  },
  {
   "cell_type": "code",
   "execution_count": 42,
   "metadata": {},
   "outputs": [],
   "source": [
    "distanciamercurio = input(\"¿Cuál es la distancia de Mercurio al sol?\") # km\n",
    "distanciavenus = input(\"¿Cuál es la distancia de Venus al sol?\") # km"
   ]
  },
  {
   "cell_type": "code",
   "execution_count": 43,
   "metadata": {},
   "outputs": [
    {
     "name": "stdout",
     "output_type": "stream",
     "text": [
      "5\n",
      "2000\n"
     ]
    }
   ],
   "source": [
    "distanciamercurio = int(distanciamercurio)\n",
    "distanciavenus = int(distanciavenus)\n",
    "\n",
    "print(distanciamercurio)\n",
    "print(distanciavenus)"
   ]
  },
  {
   "cell_type": "code",
   "execution_count": 44,
   "metadata": {},
   "outputs": [
    {
     "name": "stdout",
     "output_type": "stream",
     "text": [
      "La distancia entre Mercurio y Venus (km) es: 1995\n"
     ]
    }
   ],
   "source": [
    "distanciaalsol = distanciamercurio - distanciavenus\n",
    "absdistanciaalsol = abs(distanciaalsol)\n",
    "print(\"La distancia entre Mercurio y Venus (km) es:\",absdistanciaalsol)"
   ]
  },
  {
   "cell_type": "code",
   "execution_count": 45,
   "metadata": {},
   "outputs": [
    {
     "name": "stdout",
     "output_type": "stream",
     "text": [
      "La distancia entre Mercurio y Venus (millas) es: 1239\n"
     ]
    }
   ],
   "source": [
    "milla = 0.621\n",
    "distanciaalsolmilla = absdistanciaalsol * milla\n",
    "print(\"La distancia entre Mercurio y Venus (millas) es:\",round(distanciaalsolmilla))"
   ]
  }
 ],
 "metadata": {
  "interpreter": {
   "hash": "bfb4883d108fc92ac768439090a2e92bb9a1f760a54beeecfd6762b5dcd70fe3"
  },
  "kernelspec": {
   "display_name": "Python 3.10.2 64-bit",
   "language": "python",
   "name": "python3"
  },
  "language_info": {
   "codemirror_mode": {
    "name": "ipython",
    "version": 3
   },
   "file_extension": ".py",
   "mimetype": "text/x-python",
   "name": "python",
   "nbconvert_exporter": "python",
   "pygments_lexer": "ipython3",
   "version": "3.10.2"
  },
  "orig_nbformat": 4
 },
 "nbformat": 4,
 "nbformat_minor": 2
}
